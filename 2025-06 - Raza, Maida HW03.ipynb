{
 "cells": [
  {
   "cell_type": "markdown",
   "metadata": {},
   "source": [
    "# HW03 - Machine Learning for Cancer-Risk Screening - Perceptron and Always-0 Classifier(s); ROC Curves; Precision and Recall\n",
    "\n",
    "### Authors: Maida Raza\n",
    "\n",
    "### Assignment description: \n",
    "\n",
    "In this assignment, I built and evaluated classifiers to predict cancer risk from patient data. I compared a simple, always-0 baseline classifier to a trained Perceptron model, applied scaling and regularization, and converted Perceptron outputs into probabilistic predictions using calibration techniques. I then analyzed the trade-off between precision and recall, evaluated model performance with ROC curves, and chose the most appropriate threshold for decision-making.\n",
    "\n",
    "### Import required libraries.\n",
    "\n",
    "Author imports more libraries, as needed, below."
   ]
  },
  {
   "cell_type": "code",
   "execution_count": 98,
   "metadata": {},
   "outputs": [
    {
     "name": "stdout",
     "output_type": "stream",
     "text": [
      "Requirement already satisfied: seaborn in /opt/miniconda3/envs/ml135_env_sp21/lib/python3.12/site-packages (0.13.2)\n",
      "Requirement already satisfied: numpy!=1.24.0,>=1.20 in /opt/miniconda3/envs/ml135_env_sp21/lib/python3.12/site-packages (from seaborn) (2.1.3)\n",
      "Requirement already satisfied: pandas>=1.2 in /opt/miniconda3/envs/ml135_env_sp21/lib/python3.12/site-packages (from seaborn) (2.2.3)\n",
      "Requirement already satisfied: matplotlib!=3.6.1,>=3.4 in /opt/miniconda3/envs/ml135_env_sp21/lib/python3.12/site-packages (from seaborn) (3.10.0)\n",
      "Requirement already satisfied: contourpy>=1.0.1 in /opt/miniconda3/envs/ml135_env_sp21/lib/python3.12/site-packages (from matplotlib!=3.6.1,>=3.4->seaborn) (1.3.1)\n",
      "Requirement already satisfied: cycler>=0.10 in /opt/miniconda3/envs/ml135_env_sp21/lib/python3.12/site-packages (from matplotlib!=3.6.1,>=3.4->seaborn) (0.11.0)\n",
      "Requirement already satisfied: fonttools>=4.22.0 in /opt/miniconda3/envs/ml135_env_sp21/lib/python3.12/site-packages (from matplotlib!=3.6.1,>=3.4->seaborn) (4.55.3)\n",
      "Requirement already satisfied: kiwisolver>=1.3.1 in /opt/miniconda3/envs/ml135_env_sp21/lib/python3.12/site-packages (from matplotlib!=3.6.1,>=3.4->seaborn) (1.4.8)\n",
      "Requirement already satisfied: packaging>=20.0 in /opt/miniconda3/envs/ml135_env_sp21/lib/python3.12/site-packages (from matplotlib!=3.6.1,>=3.4->seaborn) (24.2)\n",
      "Requirement already satisfied: pillow>=8 in /opt/miniconda3/envs/ml135_env_sp21/lib/python3.12/site-packages (from matplotlib!=3.6.1,>=3.4->seaborn) (11.1.0)\n",
      "Requirement already satisfied: pyparsing>=2.3.1 in /opt/miniconda3/envs/ml135_env_sp21/lib/python3.12/site-packages (from matplotlib!=3.6.1,>=3.4->seaborn) (3.2.0)\n",
      "Requirement already satisfied: python-dateutil>=2.7 in /opt/miniconda3/envs/ml135_env_sp21/lib/python3.12/site-packages (from matplotlib!=3.6.1,>=3.4->seaborn) (2.9.0.post0)\n",
      "Requirement already satisfied: pytz>=2020.1 in /opt/miniconda3/envs/ml135_env_sp21/lib/python3.12/site-packages (from pandas>=1.2->seaborn) (2024.1)\n",
      "Requirement already satisfied: tzdata>=2022.7 in /opt/miniconda3/envs/ml135_env_sp21/lib/python3.12/site-packages (from pandas>=1.2->seaborn) (2023.3)\n",
      "Requirement already satisfied: six>=1.5 in /opt/miniconda3/envs/ml135_env_sp21/lib/python3.12/site-packages (from python-dateutil>=2.7->matplotlib!=3.6.1,>=3.4->seaborn) (1.17.0)\n"
     ]
    }
   ],
   "source": [
    "import os\n",
    "import numpy as np\n",
    "import pandas as pd\n",
    "\n",
    "import warnings\n",
    "\n",
    "import sklearn.linear_model\n",
    "import sklearn.metrics\n",
    "import sklearn.calibration\n",
    "\n",
    "from matplotlib import pyplot as plt\n",
    "import seaborn as sns\n",
    "%matplotlib inline\n",
    "!pip install seaborn\n",
    "\n",
    "plt.style.use('seaborn-v0_8') # pretty matplotlib plots"
   ]
  },
  {
   "cell_type": "markdown",
   "metadata": {},
   "source": [
    "### Function for later use\n",
    "This function will compute and return a confusion matrix on data, given probabilistic predictions, and a threshold to use when converting probabilities to \"firm\" predictions.\n",
    "\n"
   ]
  },
  {
   "cell_type": "code",
   "execution_count": null,
   "metadata": {},
   "outputs": [],
   "source": [
    "def calc_confusion_matrix_for_threshold(ytrue_N, yproba1_N, thresh=0.5):\n",
    "    \n",
    "    cm = sklearn.metrics.confusion_matrix(ytrue_N, yproba1_N >= thresh)\n",
    "    cm_df = pd.DataFrame(data=cm, columns=[0, 1], index=[0, 1])\n",
    "    cm_df.columns.name = 'Predicted'\n",
    "    cm_df.index.name = 'True'\n",
    "    return cm_df"
   ]
  },
  {
   "cell_type": "markdown",
   "metadata": {},
   "source": [
    "## Cancer-Risk Screening\n",
    "\n",
    "### 1: Compute true/false positives/negatives.\n",
    "\n",
    "This function should take in two vectors of the same length, one consisting of known correct output values (0 or 1) for a classification task, and the other consisting of the actual output values for some classifier. It\n",
    "will then compute the number of true/false positive/negative values found in the classifier output, and return them.\n"
   ]
  },
  {
   "cell_type": "code",
   "execution_count": null,
   "metadata": {},
   "outputs": [
    {
     "data": {
      "text/plain": [
       "(2, 0, 1, 1)"
      ]
     },
     "execution_count": 100,
     "metadata": {},
     "output_type": "execute_result"
    }
   ],
   "source": [
    "def calc_TP_TN_FP_FN(ytrue_N, yhat_N):\n",
    "    correct_0 = []\n",
    "    correct_1 = []\n",
    "    incorrect_0 = []\n",
    "    incorrect_1 = []\n",
    "    \n",
    "    if len(ytrue_N) == len(yhat_N):\n",
    "        for i in range(len(ytrue_N)):\n",
    "            if ytrue_N[i] == yhat_N[i]:\n",
    "                if yhat_N[i] == 1:\n",
    "                    correct_1.append(yhat_N[i])\n",
    "                else:\n",
    "                    correct_0.append(yhat_N[i])\n",
    "            else: \n",
    "                if yhat_N[i] == 1:\n",
    "                    incorrect_1.append(yhat_N[i]) \n",
    "                else:\n",
    "                    incorrect_0.append(yhat_N[i]) \n",
    "                \n",
    "    else:\n",
    "        return(\"Error: The length of the lists is not same\")\n",
    "    incorrect_0 = [int(j) for j in incorrect_0]        \n",
    "    incorrect_1 = [int(k) for k in incorrect_1]\n",
    "    correct_0 = [int(l) for l in correct_0]\n",
    "    correct_1 = [int(m) for m in correct_1]\n",
    "    \n",
    "    TP = len(correct_1)\n",
    "    TN = len(correct_0)\n",
    "    FP = len(incorrect_1)\n",
    "    FN = len(incorrect_0)\n",
    "    \n",
    "    return TP, TN, FP, FN\n",
    "\n",
    "input_1 = np.array([0,1,1,1])\n",
    "input_2 = np.array([1,1,1,0])\n",
    "\n",
    "calc_TP_TN_FP_FN(input_1, input_2)"
   ]
  },
  {
   "cell_type": "markdown",
   "metadata": {},
   "source": [
    "#### Testing code\n",
    "The following four calls to the function above to test the results."
   ]
  },
  {
   "cell_type": "code",
   "execution_count": 101,
   "metadata": {},
   "outputs": [
    {
     "data": {
      "text/plain": [
       "(0, 0, 10, 0)"
      ]
     },
     "execution_count": 101,
     "metadata": {},
     "output_type": "execute_result"
    }
   ],
   "source": [
    "all0 = np.zeros(10)\n",
    "all1 = np.ones(10)\n",
    "calc_TP_TN_FP_FN(all0, all1)"
   ]
  },
  {
   "cell_type": "code",
   "execution_count": 102,
   "metadata": {},
   "outputs": [
    {
     "data": {
      "text/plain": [
       "(0, 0, 0, 10)"
      ]
     },
     "execution_count": 102,
     "metadata": {},
     "output_type": "execute_result"
    }
   ],
   "source": [
    "calc_TP_TN_FP_FN(all1, all0)"
   ]
  },
  {
   "cell_type": "code",
   "execution_count": 103,
   "metadata": {},
   "outputs": [
    {
     "data": {
      "text/plain": [
       "(10, 0, 0, 0)"
      ]
     },
     "execution_count": 103,
     "metadata": {},
     "output_type": "execute_result"
    }
   ],
   "source": [
    "calc_TP_TN_FP_FN(all1, all1)"
   ]
  },
  {
   "cell_type": "code",
   "execution_count": 104,
   "metadata": {},
   "outputs": [
    {
     "data": {
      "text/plain": [
       "(0, 10, 0, 0)"
      ]
     },
     "execution_count": 104,
     "metadata": {},
     "output_type": "execute_result"
    }
   ],
   "source": [
    "calc_TP_TN_FP_FN(all0, all0)"
   ]
  },
  {
   "cell_type": "markdown",
   "metadata": {},
   "source": [
    "### Load the datasets\n",
    "\n",
    "Here, we are simply loading the datasets\n"
   ]
  },
  {
   "cell_type": "code",
   "execution_count": 105,
   "metadata": {},
   "outputs": [],
   "source": [
    "# Load the x-data and y-class arrays\n",
    "x_train = np.loadtxt('./data_cancer/x_train.csv', delimiter=',', skiprows=1)\n",
    "x_test = np.loadtxt('./data_cancer/x_test.csv', delimiter=',', skiprows=1)\n",
    "\n",
    "y_train = np.loadtxt('./data_cancer/y_train.csv', delimiter=',', skiprows=1)\n",
    "y_test = np.loadtxt('./data_cancer/y_test.csv', delimiter=',', skiprows=1)"
   ]
  },
  {
   "cell_type": "markdown",
   "metadata": {},
   "source": [
    "#### Scaling the data: \n",
    "\n",
    "After running both Perceptron and Always-0 classifiers without scaling, I was getting the same results. This is mainly because our data has features with varying numerical ranges. I will scale x_test and x_train to be in the [0,1] range only. "
   ]
  },
  {
   "cell_type": "code",
   "execution_count": 106,
   "metadata": {},
   "outputs": [],
   "source": [
    "\n",
    "# Scaling the data\n",
    "from sklearn.preprocessing import MinMaxScaler\n",
    "\n",
    "scale = MinMaxScaler()\n",
    "x_train = scale.fit_transform(x_train)\n",
    "x_test = scale.transform(x_test) \n"
   ]
  },
  {
   "cell_type": "markdown",
   "metadata": {},
   "source": [
    "### 2: Compute the fraction of patients with cancer\n",
    "\n",
    "For each of the input sets (train, test), we want to know the proportion of patients that do/do not have cancer"
   ]
  },
  {
   "cell_type": "code",
   "execution_count": null,
   "metadata": {},
   "outputs": [
    {
     "data": {
      "text/plain": [
       "(80, 490, 25, 155)"
      ]
     },
     "execution_count": 107,
     "metadata": {},
     "output_type": "execute_result"
    }
   ],
   "source": [
    "# For verification purposes only.\n",
    "\n",
    "train_1 = [m for m in y_train if m == 1.0]\n",
    "train_0 = [n for n in y_train if n == 0.0]\n",
    "\n",
    "test_1 = [o for o in y_test if o == 1.0]\n",
    "test_0 = [p for p in y_test if p == 0.0]\n",
    "\n",
    "len(train_1), len(train_0), len(test_1), len(test_0)"
   ]
  },
  {
   "cell_type": "markdown",
   "metadata": {},
   "source": [
    "##### Total observations in test set: 180\n",
    "\n",
    "##### Total observations in train set: 570"
   ]
  },
  {
   "cell_type": "code",
   "execution_count": null,
   "metadata": {},
   "outputs": [
    {
     "name": "stdout",
     "output_type": "stream",
     "text": [
      "Fraction of data that has_cancer on TRAIN: 0.140\n",
      "fraction of data that has_cancer on TEST : 0.139\n"
     ]
    }
   ],
   "source": [
    "# Code for determining the proportion of cancer v. non-cancer patients:\n",
    "\n",
    "import pandas\n",
    "\n",
    "test_cancer = []\n",
    "test_nocancer = []\n",
    "train_cancer = []\n",
    "train_nocancer = []\n",
    "total_len_test = len(y_test)\n",
    "total_len_train = len(y_train)\n",
    "\n",
    "for i in y_test:\n",
    "    if i == 0.0:\n",
    "        test_nocancer.append(i)\n",
    "    else:\n",
    "        test_cancer.append(i)\n",
    "\n",
    "for m in y_train:\n",
    "    if m == 0.0:\n",
    "        train_nocancer.append(m)\n",
    "    else:\n",
    "        train_cancer.append(m)\n",
    "        \n",
    "frac_test_cancer = len(test_cancer)/total_len_test\n",
    "frac_train_cancer = len(train_cancer)/total_len_train\n",
    "\n",
    "print(f\"Fraction of data that has_cancer on TRAIN: {frac_train_cancer:.3f}\") \n",
    "print(f\"fraction of data that has_cancer on TEST : {frac_test_cancer:.3f}\")"
   ]
  },
  {
   "cell_type": "markdown",
   "metadata": {},
   "source": [
    "### 3: The predict-0-always baseline\n",
    "\n",
    "An \"always 0 classifier\" is a simple baseline model that always predicts class 0, regardless of the input data. Dummy Classifier in Scikit-learn is used to create a baseline performance metric/classifier. It does not learn anything from the data, however, it is useful in the cases where data is imbalanced. \n",
    "\n",
    "#### (a) Compute the accuracy of the always-0 classifier on test and train sets.\n",
    "\n"
   ]
  },
  {
   "cell_type": "code",
   "execution_count": null,
   "metadata": {},
   "outputs": [
    {
     "name": "stdout",
     "output_type": "stream",
     "text": [
      "acc on TRAIN: 0.860\n",
      "acc on TEST : 0.861\n"
     ]
    }
   ],
   "source": [
    "# I am understanding this to say that how many times always-0 will be correct in predicting zero in both test and train datasets\n",
    "\n",
    "from sklearn.dummy import DummyClassifier\n",
    "from sklearn.metrics import accuracy_score\n",
    "\n",
    "dummy = DummyClassifier(strategy = 'constant', constant = 0)\n",
    "\n",
    "# fit the training data on the dummy model and then use it to predict the test results. We will then compute the accuracy score using accuracy_score from scikit-learn\n",
    "dummy.fit(x_train, y_train)\n",
    "y_predict_dummy = dummy.predict(x_test)\n",
    "y_train_predict_dummy = dummy.predict(x_train)\n",
    "\n",
    "\n",
    "print(f\"acc on TRAIN: {accuracy_score(y_train, y_train_predict_dummy):.3f}\") \n",
    "print(f\"acc on TEST : {accuracy_score(y_test, y_predict_dummy):.3f}\")"
   ]
  },
  {
   "cell_type": "markdown",
   "metadata": {},
   "source": [
    "#### (b) Print a confusion matrix for the always-0 classifier\n",
    "\n",
    "Note that, I am calling the functions that I built above"
   ]
  },
  {
   "cell_type": "code",
   "execution_count": null,
   "metadata": {},
   "outputs": [
    {
     "name": "stdout",
     "output_type": "stream",
     "text": [
      "Predicted    0  1\n",
      "True             \n",
      "0          155  0\n",
      "1           25  0\n",
      "Predicted    0  1\n",
      "True             \n",
      "0          490  0\n",
      "1           80  0\n"
     ]
    }
   ],
   "source": [
    "print(calc_confusion_matrix_for_threshold(y_test, y_predict_dummy))\n",
    "print(calc_confusion_matrix_for_threshold(y_train, y_train_predict_dummy))\n"
   ]
  },
  {
   "cell_type": "markdown",
   "metadata": {},
   "source": [
    "#### (c) Reflect on the accuracy of the always-0 classifier.\n",
    "\n",
    "**Answer**:\n",
    "\n",
    "The Always-0 classifier predicts every instance as class 0, regardless of input. While this may yield high accuracy in imbalanced datasets — like ours, where most samples belong to class 0 — it is not a meaningful model for tasks such as cancer detection.\n",
    "\n",
    "This high accuracy is misleading. The model achieves it by exploiting the class imbalance, not by learning any patterns. In our case, although accuracy appears reasonable, the model fails to identify any positive cases (i.e., patients with cancer). The confusion matrix confirms this, showing that all 25 actual positives are misclassified as negatives.\n",
    "\n",
    "This failure is especially critical given our task: detecting cancer. Here, recall (true positive rate) is far more important than overall accuracy. The Always-0 model's recall is 0, making it useless for our primary goal.\n",
    "\n",
    "In contrast, even models with lower overall accuracy but better recall would be preferred, as they at least identify some cancer cases. This demonstrates the importance of choosing evaluation metrics aligned with the real-world costs of misclassification. In this context, missing a cancer case (false negative) is far more costly than a false positive."
   ]
  },
  {
   "cell_type": "markdown",
   "metadata": {},
   "source": [
    "#### (d) Analyze the various costs of using the always-0 classifier (if you are tasked with determining if patients have cancer without doing a biopsy first).\n",
    "\n",
    "\n",
    "**Answer**: \n",
    "\n",
    "Using the Always-0 classifier in this context is highly costly and potentially harmful, as it consistently fails to identify patients with cancer (class 1):\n",
    "\n",
    "The model will misclassify all cancer-positive patients as cancer-free (class 0). This is particularly dangerous because some patients may be in advanced stages and cannot afford delays in diagnosis. If a patient chooses to forego a biopsy and relies solely on this test, the consequences could be life-threatening.\n",
    "\n",
    "From an institutional perspective, deploying such an ineffective classifier exposes the hospital to serious legal and ethical risks. If a misdiagnosed patient dies or suffers harm, the hospital could face lawsuits, resulting in substantial financial penalties and long-term reputational damage.\n",
    "\n",
    "Given that the dataset is highly imbalanced—heavily skewed toward non-cancer cases—I strongly discourage the use of the Always-0 classifier because it does not help us address the problem statement: identify patients with Cancer!"
   ]
  },
  {
   "cell_type": "markdown",
   "metadata": {},
   "source": [
    "### 4: Basic Perceptron Models\n",
    "\n",
    "#### (a) Create a basic `Perceptron` classifier\n",
    "\n",
    "Fit a perceptron to the training data.  Print out accuracy on this data, as well as on testing data.  Print out a confusion matrix on the testing data."
   ]
  },
  {
   "cell_type": "code",
   "execution_count": null,
   "metadata": {},
   "outputs": [
    {
     "name": "stdout",
     "output_type": "stream",
     "text": [
      "acc on TRAIN: 0.402\n",
      "acc on TEST :0.494\n",
      "\n",
      "Confusion Matrix for the test set: \n",
      "\n",
      "Predicted   0   1\n",
      "True             \n",
      "0          64  91\n",
      "1           0  25\n"
     ]
    }
   ],
   "source": [
    "from sklearn.linear_model import Perceptron\n",
    "from sklearn.metrics import accuracy_score\n",
    "\n",
    "model = Perceptron()\n",
    "model.fit(x_train, y_train)\n",
    "\n",
    "# Predicting on the train set\n",
    "y_train_predict = model.predict(x_train)\n",
    "\n",
    "# Predicting on the test set\n",
    "y_test_predict = model.predict(x_test)\n",
    "\n",
    "# Calculating the accuracy score on both test and train sets\n",
    "acc_score_train = accuracy_score(y_train, y_train_predict)\n",
    "acc_score_test = accuracy_score(y_test, y_test_predict)\n",
    "\n",
    "print(f\"acc on TRAIN: {acc_score_train:.3f}\") \n",
    "print(f\"acc on TEST :{acc_score_test:.3f}\")\n",
    "print(f'\\nConfusion Matrix for the test set: \\n\\n{calc_confusion_matrix_for_threshold(y_test, y_test_predict)}')"
   ]
  },
  {
   "cell_type": "markdown",
   "metadata": {},
   "source": [
    "#### (b) Compare the `Perceptron` to the always-0 classifier.\n",
    "\n",
    "**Answer**: \n",
    "\n",
    "After scaling both the training and test datasets using MinMaxScaler, the accuracy of the Always-0 classifier remained unchanged. In contrast, the Perceptron model achieved an accuracy of 40.2% on the training set and 49.4% on the test set—compared to 86.0% and 86.1% for the Always-0 classifier on the respective sets.\n",
    "\n",
    "However, accuracy alone does not tell the full story. The confusion matrix for the Perceptron model on the test set shows that it correctly identified all 25 positive cases (patients with cancer), and—crucially—it produced no false negatives. This is a significant improvement over the Always-0 classifier, which misclassifies all positive cases as negatives. While the Perceptron model does classify 58% of negative cases as false positives, this is a tradeoff worth accepting in the medical context of cancer detection.\n",
    "\n",
    "Our primary objective in this task is to minimize false negatives, as missing a cancer diagnosis can have severe, potentially fatal consequences. In contrast, false positives—while inconvenient—can be followed up with confirmatory tests like biopsies, which are part of standard medical practice.\n",
    "\n",
    "Therefore, despite its lower overall accuracy, the Perceptron model is far more aligned with our real-world objective and represents a more reliable option than the Always-0 baseline. Moving forward, applying more sophisticated models such as Logistic Regression or Random Forest could help reduce the number of false positives while maintaining the zero false negative rate—leading to a better balance between sensitivity and precision."
   ]
  },
  {
   "cell_type": "markdown",
   "metadata": {},
   "source": [
    "#### (c) Generate a series of regularized perceptron models\n",
    "Each model will use a different `alpha` value, multiplying that by the L2 penalty.  You will record and plot the accuracy of each model on both training and test data."
   ]
  },
  {
   "cell_type": "code",
   "execution_count": null,
   "metadata": {},
   "outputs": [
    {
     "name": "stdout",
     "output_type": "stream",
     "text": [
      "train_accuracy_list = [0.8596491228070176, 0.8, 0.8666666666666667, 0.8596491228070176, 0.8614035087719298, 0.8666666666666667, 0.8736842105263158, 0.8649122807017544, 0.8614035087719298, 0.8666666666666667, 0.8631578947368421, 0.8701754385964913, 0.8649122807017544, 0.8596491228070176, 0.8824561403508772, 0.45087719298245615, 0.8649122807017544, 0.5771929824561404, 0.2964912280701754, 0.868421052631579, 0.8614035087719298, 0.8631578947368421, 0.8842105263157894, 0.8614035087719298, 0.8596491228070176, 0.8596491228070176, 0.8631578947368421, 0.875438596491228, 0.8596491228070176, 0.14035087719298245, 0.14035087719298245, 0.8666666666666667, 0.8649122807017544, 0.8596491228070176, 0.8596491228070176, 0.8596491228070176, 0.8596491228070176, 0.8596491228070176, 0.8596491228070176, 0.8596491228070176, 0.8596491228070176, 0.8596491228070176, 0.8596491228070176, 0.8596491228070176, 0.8596491228070176, 0.8596491228070176, 0.8596491228070176, 0.8596491228070176, 0.8596491228070176, 0.8596491228070176, 0.8596491228070176, 0.8596491228070176, 0.8596491228070176, 0.8596491228070176, 0.8596491228070176, 0.8596491228070176, 0.8596491228070176, 0.8596491228070176, 0.8596491228070176, 0.8596491228070176, 0.8596491228070176, 0.8596491228070176, 0.8596491228070176, 0.8596491228070176, 0.8596491228070176, 0.8596491228070176, 0.8596491228070176, 0.8596491228070176, 0.8596491228070176, 0.8596491228070176, 0.8596491228070176, 0.8596491228070176, 0.8596491228070176, 0.8596491228070176, 0.8596491228070176, 0.8596491228070176, 0.8596491228070176, 0.8596491228070176, 0.8596491228070176, 0.8596491228070176, 0.8596491228070176, 0.8596491228070176, 0.8596491228070176, 0.8596491228070176, 0.8596491228070176, 0.8596491228070176, 0.8596491228070176, 0.8596491228070176, 0.8596491228070176, 0.8596491228070176, 0.8596491228070176, 0.8596491228070176, 0.8596491228070176, 0.8596491228070176, 0.8596491228070176, 0.8596491228070176, 0.8596491228070176, 0.8596491228070176, 0.8596491228070176, 0.8596491228070176]\n",
      "test_accuracy_list = [0.8722222222222222, 0.8222222222222222, 0.8777777777777778, 0.8666666666666667, 0.8666666666666667, 0.8888888888888888, 0.8777777777777778, 0.8777777777777778, 0.8611111111111112, 0.8944444444444445, 0.8611111111111112, 0.8722222222222222, 0.8944444444444445, 0.8611111111111112, 0.8888888888888888, 0.5611111111111111, 0.8611111111111112, 0.6388888888888888, 0.35, 0.8722222222222222, 0.8611111111111112, 0.8666666666666667, 0.8888888888888888, 0.8611111111111112, 0.8611111111111112, 0.8611111111111112, 0.8611111111111112, 0.9, 0.8611111111111112, 0.1388888888888889, 0.1388888888888889, 0.8722222222222222, 0.8611111111111112, 0.8611111111111112, 0.8611111111111112, 0.8611111111111112, 0.8611111111111112, 0.8611111111111112, 0.8611111111111112, 0.8611111111111112, 0.8611111111111112, 0.8611111111111112, 0.8611111111111112, 0.8611111111111112, 0.8611111111111112, 0.8611111111111112, 0.8611111111111112, 0.8611111111111112, 0.8611111111111112, 0.8611111111111112, 0.8611111111111112, 0.8611111111111112, 0.8611111111111112, 0.8611111111111112, 0.8611111111111112, 0.8611111111111112, 0.8611111111111112, 0.8611111111111112, 0.8611111111111112, 0.8611111111111112, 0.8611111111111112, 0.8611111111111112, 0.8611111111111112, 0.8611111111111112, 0.8611111111111112, 0.8611111111111112, 0.8611111111111112, 0.8611111111111112, 0.8611111111111112, 0.8611111111111112, 0.8611111111111112, 0.8611111111111112, 0.8611111111111112, 0.8611111111111112, 0.8611111111111112, 0.8611111111111112, 0.8611111111111112, 0.8611111111111112, 0.8611111111111112, 0.8611111111111112, 0.8611111111111112, 0.8611111111111112, 0.8611111111111112, 0.8611111111111112, 0.8611111111111112, 0.8611111111111112, 0.8611111111111112, 0.8611111111111112, 0.8611111111111112, 0.8611111111111112, 0.8611111111111112, 0.8611111111111112, 0.8611111111111112, 0.8611111111111112, 0.8611111111111112, 0.8611111111111112, 0.8611111111111112, 0.8611111111111112, 0.8611111111111112, 0.8611111111111112]\n"
     ]
    }
   ],
   "source": [
    "alphas = np.logspace(-5,5,base=10, num=100)\n",
    "x_ticks = []\n",
    "test_accuracy = []\n",
    "train_accuracy = []\n",
    "\n",
    "for i in alphas:\n",
    "    x_ticks.append(i)\n",
    "    \n",
    "    model = Perceptron(alpha=i, penalty='l2')\n",
    "    model.fit(x_train, y_train)\n",
    "    y_train_predict = model.predict(x_train)\n",
    "    y_test_predict = model.predict(x_test)\n",
    "    train_acc_score = accuracy_score(y_train, y_train_predict)\n",
    "    test_acc_score = accuracy_score(y_test, y_test_predict)\n",
    "    test_accuracy.append(test_acc_score)\n",
    "    train_accuracy.append(train_acc_score)\n",
    "    \n",
    "print(f'train_accuracy_list = {train_accuracy}')\n",
    "print(f'test_accuracy_list = {test_accuracy}')\n"
   ]
  },
  {
   "cell_type": "markdown",
   "metadata": {},
   "source": [
    "##### Plot accuracy on train/test data across the different alpha values."
   ]
  },
  {
   "cell_type": "code",
   "execution_count": null,
   "metadata": {},
   "outputs": [
    {
     "data": {
      "image/png": "[encoded data removed]",
      "text/plain": [
       "<Figure size 1200x600 with 1 Axes>"
      ]
     },
     "metadata": {},
     "output_type": "display_data"
    }
   ],
   "source": [
    "plt.figure(figsize=(12,6))\n",
    "plt.plot(x_ticks, test_accuracy, label = \"Test Set\", color = 'blue')\n",
    "plt.plot(x_ticks, train_accuracy, label = 'Train Set', color ='red')\n",
    "plt.xscale('log')\n",
    "plt.legend()\n",
    "plt.xlabel('log_10(alpha)')\n",
    "plt.ylabel('Accuracy')\n",
    "plt.title('Perceptron Accuracy vs Alpha (L2 Regularization)')   \n",
    "plt.show()"
   ]
  },
  {
   "cell_type": "markdown",
   "metadata": {},
   "source": [
    "#### (d) Discuss what the plot is showing you\n",
    "\n",
    "**Answer**: \n",
    "\n",
    "The Perceptron model performs best with minimal regularization — very low values of alpha. For example, 10^-4 yields the highest test accuracy. Perceptron becomes insensitive to higher alphas, as demonstrated by both test and train accuracies stabalizing after 10^-2. At low regularization values, test accuracy occasionally exceeds train accuracy, likely due to noise or underfitting at certain alpha values. This further suggests the model benefits from light regularization but not strong penalties. Unlike Ridge regression, where increasing alpha gradually shrinks weights and improves generalization by reducing MSE, the Perceptron’s performance is less stable due to its binary loss and step-based updates. This results in sudden performance drops at moderate alpha values"
   ]
  },
  {
   "cell_type": "markdown",
   "metadata": {},
   "source": [
    "### 5: Decision functions and probabilistic predictions\n",
    "\n",
    "#### (a) Create two new sets of predictions\n",
    "\n",
    "Fit `Perceptron` and `CalibratedClassifierCV` models to the data.  Use their predictions to generate ROC curves. "
   ]
  },
  {
   "cell_type": "markdown",
   "metadata": {},
   "source": [
    "* Confidence Score: tells us how certain the model is that each data-point is in the assigned class, it is calculated for every single data point. It, essentially, is a probability measure."
   ]
  },
  {
   "cell_type": "code",
   "execution_count": 127,
   "metadata": {},
   "outputs": [],
   "source": [
    "from sklearn.calibration import CalibratedClassifierCV\n",
    "from sklearn.metrics import roc_curve, auc \n",
    "\n",
    "# fitting the Perceptron model and generating its decision_function() over the test data.\n",
    "\n",
    "model_revised = Perceptron()\n",
    "model_revised.fit(x_train, y_train)\n",
    "y_test_predict = model_revised.predict(x_test)\n",
    "\n",
    "# Generating the confidence scores for the test data \n",
    "confidence_score = model_revised.decision_function(x_test) \n",
    "\n",
    "# Creating the CCCV model - we use CCCV because Perceptron cannot handle float data\n",
    "\n",
    "model_2 = CalibratedClassifierCV(model_revised, method='isotonic')\n",
    "model_2.fit(x_train, y_train)\n",
    "y_test_predict_CCCV = model_2.predict(x_test)\n",
    "y_test_probabilities = model_2.predict_proba(x_test)[:,1]"
   ]
  },
  {
   "cell_type": "code",
   "execution_count": null,
   "metadata": {},
   "outputs": [
    {
     "data": {
      "image/png": "[encoded data removed]",
      "text/plain": [
       "<Figure size 800x700 with 1 Axes>"
      ]
     },
     "metadata": {},
     "output_type": "display_data"
    }
   ],
   "source": [
    "# Plotting the ROC-AUC curve. Essentially, this curve tells us the trade-off between TPR and FPR. Ideally, we want\n",
    "# the curve to reach TPR == 1 faster, so our model produces less false positives.\n",
    "\n",
    "fpr_cccv, tpr_cccv, threshold_cccv = roc_curve(y_test, y_test_probabilities)\n",
    "fpr_per, tpr_per, threshold_per = roc_curve(y_test, confidence_score)\n",
    "\n",
    "roc_auc_cccv = auc(fpr_cccv, tpr_cccv)\n",
    "roc_auc_per = auc(fpr_per, tpr_per)\n",
    "\n",
    "plt.figure(figsize=(8,7))\n",
    "plt.plot(fpr_cccv,tpr_cccv, label = f\"CCCV (AUC ={roc_auc_cccv:.3f})\")\n",
    "plt.plot(fpr_per,tpr_per, label= f\"Perceptron (AUC = {roc_auc_per:.3f})\")\n",
    "plt.plot([0,1], [0,1])\n",
    "plt.ylim([0, 1.1])\n",
    "plt.xlabel(\"False Postive Rate (FPR)\")\n",
    "plt.ylabel(\"True Postive Rate (TPR)\")\n",
    "plt.legend()\n",
    "plt.tight_layout()\n",
    "plt.title(\"ROC Curves for Perceptron and Calibrated Classifier CV Models\")\n",
    "plt.show()\n"
   ]
  },
  {
   "cell_type": "code",
   "execution_count": 116,
   "metadata": {},
   "outputs": [
    {
     "name": "stdout",
     "output_type": "stream",
     "text": [
      "AUC on TEST for Perceptron: 88.581\n",
      "AUC on TEST for probabilistic model: 88.439\n"
     ]
    }
   ],
   "source": [
    "print(f\"AUC on TEST for Perceptron: {roc_auc_cccv*100:.3f}\" ) #TODO: modify these values\n",
    "print(f\"AUC on TEST for probabilistic model: {roc_auc_per*100:.3f}\")\n"
   ]
  },
  {
   "cell_type": "markdown",
   "metadata": {},
   "source": [
    "#### (b) Discuss the results above\n",
    "\n",
    "**Answer**: AUC, or Area Under The Curve shows us the trade-off between FPR and TPR. The purposes of our problem is to predict whether a patient has Cancer or does not have Cancer before the biopsy. As shown above Calibrated-Classifier achieves a TPR = 1 much quickly than Perceptron. While the difference is minimal and the costs of False Positives is not high in this problem, Calibrated-Classifier is still a better model because it reduces the number of False Positives. "
   ]
  },
  {
   "cell_type": "markdown",
   "metadata": {},
   "source": [
    "#### (c) Compute model metrics for different probabilistic thresholds\n",
    "\n",
    "Compute a function that takes in a set of correct outputs, a matching set of probabilities generated by a classifier, and a threshold at which to set the positive decision probability, and returns a set of metrics if we use that threshold."
   ]
  },
  {
   "cell_type": "code",
   "execution_count": null,
   "metadata": {},
   "outputs": [
    {
     "data": {
      "text/plain": [
       "[0.021031207598371775,\n",
       " 0.036415822982987164,\n",
       " 0.03529232330460214,\n",
       " 0.41266565507166675,\n",
       " 0.021031207598371775,\n",
       " 0.07450714342724879,\n",
       " 0.0,\n",
       " 0.39668495647821905,\n",
       " 0.0,\n",
       " 0.15802316642436334,\n",
       " 0.1113369802570856,\n",
       " 0.137467682743951,\n",
       " 0.3896256684491978,\n",
       " 0.0798828822395201,\n",
       " 0.1113369802570856,\n",
       " 0.9199999999999999,\n",
       " 0.042709529276693456,\n",
       " 0.00909090909090909,\n",
       " 0.021031207598371775,\n",
       " 0.0,\n",
       " 0.0,\n",
       " 0.017234150887951754,\n",
       " 0.021031207598371775,\n",
       " 0.021031207598371775,\n",
       " 0.021031207598371775,\n",
       " 0.0,\n",
       " 0.17165775401069522,\n",
       " 0.10517132143227784,\n",
       " 0.021031207598371775,\n",
       " 0.07170994063004599,\n",
       " 0.1576606600172979,\n",
       " 0.12753131224089126,\n",
       " 0.19088069506547156,\n",
       " 0.2256758692278856,\n",
       " 0.0,\n",
       " 0.12753131224089126,\n",
       " 0.021031207598371775,\n",
       " 0.021031207598371775,\n",
       " 0.30054793498543775,\n",
       " 0.021031207598371775,\n",
       " 0.2702914456047999,\n",
       " 0.0,\n",
       " 0.30103425985778925,\n",
       " 0.0,\n",
       " 0.08989175881186418,\n",
       " 0.2758594346829641,\n",
       " 0.18570124688141415,\n",
       " 0.021031207598371775,\n",
       " 0.00909090909090909,\n",
       " 0.6123529411764705,\n",
       " 0.07170994063004599,\n",
       " 0.21682042468566637,\n",
       " 0.021031207598371775,\n",
       " 0.16137989640874806,\n",
       " 0.07170994063004599,\n",
       " 0.5980783047927378,\n",
       " 0.00909090909090909,\n",
       " 0.5132620320855615,\n",
       " 0.021031207598371775,\n",
       " 0.021031207598371775,\n",
       " 0.2758594346829641,\n",
       " 0.0,\n",
       " 0.20939914103853274,\n",
       " 0.021031207598371775,\n",
       " 0.7523529411764706,\n",
       " 0.021031207598371775,\n",
       " 0.9199999999999999,\n",
       " 0.0,\n",
       " 0.08989175881186418,\n",
       " 0.0,\n",
       " 0.7523529411764706,\n",
       " 0.2329555536748838,\n",
       " 0.021031207598371775,\n",
       " 0.2758594346829641,\n",
       " 0.1576606600172979,\n",
       " 0.021031207598371775,\n",
       " 0.021031207598371775,\n",
       " 0.2702239019312574,\n",
       " 0.1576606600172979,\n",
       " 0.1576606600172979,\n",
       " 0.021031207598371775,\n",
       " 0.058903861260499124,\n",
       " 0.00909090909090909,\n",
       " 0.5107683198551033,\n",
       " 0.021031207598371775,\n",
       " 0.0,\n",
       " 0.10153959633807035,\n",
       " 0.1113369802570856,\n",
       " 0.5132620320855615,\n",
       " 0.1113369802570856,\n",
       " 0.08671338078041921,\n",
       " 0.08965865857876393,\n",
       " 0.021031207598371775,\n",
       " 0.14862263706995466,\n",
       " 0.00909090909090909,\n",
       " 0.24374334523886296,\n",
       " 0.021031207598371775,\n",
       " 0.021031207598371775,\n",
       " 0.021031207598371775,\n",
       " 0.12753131224089126,\n",
       " 0.30103425985778925,\n",
       " 0.3359664460482649,\n",
       " 0.021031207598371775,\n",
       " 0.0,\n",
       " 0.613891402714932,\n",
       " 0.07170994063004599,\n",
       " 0.7246714284748844,\n",
       " 0.021031207598371775,\n",
       " 0.3352511318439302,\n",
       " 0.021031207598371775,\n",
       " 0.1113369802570856,\n",
       " 0.021031207598371775,\n",
       " 0.0,\n",
       " 0.058903861260499124,\n",
       " 0.021031207598371775,\n",
       " 0.07170994063004599,\n",
       " 0.01148664968494308,\n",
       " 0.13668163903827688,\n",
       " 0.021031207598371775,\n",
       " 0.021031207598371775,\n",
       " 0.15938943696174263,\n",
       " 0.37953654188948305,\n",
       " 0.12753131224089126,\n",
       " 0.0,\n",
       " 0.0,\n",
       " 0.021031207598371775,\n",
       " 0.021031207598371775,\n",
       " 0.0,\n",
       " 0.006462524025811725,\n",
       " 0.0,\n",
       " 0.021031207598371775,\n",
       " 0.1481412274466226,\n",
       " 0.26804224655584485,\n",
       " 0.0,\n",
       " 0.5295011153025263,\n",
       " 0.021031207598371775,\n",
       " 0.14605676441872245,\n",
       " 0.0,\n",
       " 0.021031207598371775,\n",
       " 0.2758594346829641,\n",
       " 0.30103425985778925,\n",
       " 0.021031207598371775,\n",
       " 0.021031207598371775,\n",
       " 0.021031207598371775,\n",
       " 0.08989175881186418,\n",
       " 0.5723529411764705,\n",
       " 0.0,\n",
       " 0.0,\n",
       " 0.021031207598371775,\n",
       " 0.5613736712925761,\n",
       " 0.17852731543191194,\n",
       " 0.1641333668914992,\n",
       " 0.12753131224089126,\n",
       " 0.058903861260499124,\n",
       " 0.021031207598371775,\n",
       " 0.021031207598371775,\n",
       " 0.021031207598371775,\n",
       " 0.30103425985778925,\n",
       " 0.27348914418533604,\n",
       " 0.07088264650675973,\n",
       " 0.021031207598371775,\n",
       " 0.3316097712360027,\n",
       " 0.00909090909090909,\n",
       " 0.30103425985778925,\n",
       " 0.16065665989178898,\n",
       " 0.021031207598371775,\n",
       " 0.021031207598371775,\n",
       " 0.12753131224089126,\n",
       " 0.024208388823247794,\n",
       " 0.2758594346829641,\n",
       " 0.41480049362402305,\n",
       " 0.5303119461451112,\n",
       " 0.042709529276693456,\n",
       " 0.17516754827530487,\n",
       " 0.1576606600172979,\n",
       " 0.021031207598371775,\n",
       " 0.021031207598371775,\n",
       " 0.021031207598371775,\n",
       " 0.16122946821450626,\n",
       " 0.0]"
      ]
     },
     "execution_count": 117,
     "metadata": {},
     "output_type": "execute_result"
    }
   ],
   "source": [
    "# Print out test probabilities to understand it\n",
    "y_test_probabilities.tolist()\n"
   ]
  },
  {
   "cell_type": "code",
   "execution_count": 129,
   "metadata": {},
   "outputs": [
    {
     "data": {
      "text/plain": [
       "(0.8888888888888888,\n",
       " 0.4,\n",
       " 0.967741935483871,\n",
       " 0.6666666666666666,\n",
       " 0.9090909090909091)"
      ]
     },
     "execution_count": 129,
     "metadata": {},
     "output_type": "execute_result"
    }
   ],
   "source": [
    "# (4) Once we have generated the output of a probabilistic classifier on some data, we\n",
    "# can compute its performance relative to probability threshold TP , where we decide to\n",
    "# classify any data with output P   TP as a 1, else a 0. (So, for instance, setting TP = 0:0\n",
    "# means that all data is classified as part of the positive (1) class\n",
    "\n",
    "def calc_perf_metrics_for_threshold(ytrue_N, yproba1_N, thresh=0.5):\n",
    "    \n",
    "    y_pred = [1 if p >= thresh else 0 for p in yproba1_N]\n",
    "    Metrics = calc_TP_TN_FP_FN(ytrue_N, y_pred)\n",
    "\n",
    "    acc_model = accuracy_score(y_test, y_pred)\n",
    "    acc = (Metrics[0] + Metrics[1])/len(y_test)\n",
    "    tpr = (Metrics[0])/(Metrics[0] + Metrics[3])\n",
    "    tnr = (Metrics[1])/(Metrics[1] + Metrics[2])\n",
    "    ppv = (Metrics[0])/(Metrics[0] + Metrics[2]) if (Metrics[0] + Metrics[2])  > 0 else 0\n",
    "    npv = (Metrics[1])/(Metrics[1] + Metrics[3]) if (Metrics[1] + Metrics[3])  > 0 else 0\n",
    "    \n",
    "    #print(\"Accuracy Score you should get:\", acc_model)\n",
    "    return acc, tpr, tnr, ppv, npv\n",
    "calc_perf_metrics_for_threshold(y_test, y_test_probabilities) "
   ]
  },
  {
   "cell_type": "code",
   "execution_count": 130,
   "metadata": {},
   "outputs": [
    {
     "name": "stdout",
     "output_type": "stream",
     "text": [
      "0.889 ACC\n",
      "0.400 TPR\n",
      "0.968 TNR\n",
      "0.667 PPV\n",
      "0.909 NPV\n"
     ]
    }
   ],
   "source": [
    "# Function to make printing results easier\n",
    "def print_perf_metrics_for_threshold(ytrue_N, yproba1_N, thresh=0.5):\n",
    "    ''' Pretty print perf. metrics for a given probabilistic classifier and threshold\n",
    "    '''\n",
    "    acc, tpr, tnr, ppv, npv = calc_perf_metrics_for_threshold(ytrue_N, yproba1_N, thresh=thresh)\n",
    "    \n",
    "    ## Pretty print the results\n",
    "    print(\"%.3f ACC\" % acc)\n",
    "    print(\"%.3f TPR\" % tpr)\n",
    "    print(\"%.3f TNR\" % tnr)\n",
    "    print(\"%.3f PPV\" % ppv)\n",
    "    print(\"%.3f NPV\" % npv)\n",
    "    \n",
    "print_perf_metrics_for_threshold(y_test, y_test_probabilities)"
   ]
  },
  {
   "cell_type": "markdown",
   "metadata": {},
   "source": [
    "#### (d) Compare the probabilistic classifier across multiple decision thresholds\n",
    "\n",
    "Try a range of thresholds for classifying data into the positive class (1).  For each threshold, compute the true positive rate (TPR) and positive predictive value (PPV).  Record the best value of each metric, along with the threshold that achieves it, and the *other* metric at that threshold."
   ]
  },
  {
   "cell_type": "code",
   "execution_count": null,
   "metadata": {},
   "outputs": [
    {
     "name": "stdout",
     "output_type": "stream",
     "text": [
      "Highest TPR = 1.0\n",
      "Threshold at Highest TPR =  0.06005999999999999\n",
      "PPV at Highest TPR = 0.2777777777777778\n",
      "Accuracy at Highest TPR = 0.6388888888888888\n",
      "True Negative Rate at Highest TPR = 0.5806451612903226\n",
      "False Positives at Highest TPR = 65\n",
      "\n",
      "Highest PPV = 1.0\n",
      "Threshold at Highest PPV =  0.6206199999999998\n",
      "TPR at Highest PPV = 0.2\n",
      "Accuracy at Highest PPV = 0.8888888888888888\n",
      "True Negative Rate at Highest PPV = 1.0\n"
     ]
    }
   ],
   "source": [
    "# enumerate gives you both the index and teh value at that index\n",
    "\n",
    "TPR = []\n",
    "PPV = []\n",
    "thresh = []\n",
    "threshold = np.linspace(0, 1.001, 51)\n",
    "Acc = []\n",
    "TNR = []\n",
    "False_P = []\n",
    "\n",
    "for i in threshold:\n",
    "    thresh.append(i)\n",
    "    y_designation = [1 if p >= i else 0 for p in y_test_probabilities]\n",
    "    TP, TN, FP, FN = calc_TP_TN_FP_FN(y_test, y_designation)\n",
    "\n",
    "    acc = (TP + TN) / len(y_test)\n",
    "    tpr = TP / (TP + FN) if (TP + FN) > 0 else 0\n",
    "    tnr = TN / (TN + FP) if (TN + FP) > 0 else 0\n",
    "    ppv = TP / (TP + FP) if (TP + FP) > 0 else 0\n",
    "\n",
    "    TPR.append(tpr)\n",
    "    PPV.append(ppv)\n",
    "    Acc.append(acc)\n",
    "    TNR.append(tnr)\n",
    "    False_P.append(FP)\n",
    "\n",
    "best_TPR = max(TPR)\n",
    "tpr_candidates = [i for i, val in enumerate(TPR) if val == best_TPR]\n",
    "best_TPR_index = max(tpr_candidates, key=lambda i: PPV[i]) # this essentially looks at PPV at every index identified by tpr_candidates and then gives us the best PPV\n",
    "best_PPV_for_best_TPR = PPV[best_TPR_index]\n",
    "best_TPR_threshold = thresh[best_TPR_index]\n",
    "\n",
    "best_PPV = max(PPV)\n",
    "ppv_candidates =[m for m, val in enumerate(PPV) if val == best_PPV]\n",
    "best_PPV_index = max(ppv_candidates, key = lambda i: TPR[i])\n",
    "best_TPR_for_best_PPV = TPR[best_PPV_index]\n",
    "best_PPV_threshold = thresh[best_PPV_index]\n",
    "\n",
    "# Best TPR Threshold:\n",
    "print(\"Highest TPR =\", best_TPR)\n",
    "print(\"Threshold at Highest TPR = \", best_TPR_threshold)\n",
    "print(\"PPV at Highest TPR =\", best_PPV_for_best_TPR)\n",
    "print(\"Accuracy at Highest TPR =\", Acc[best_TPR_index])\n",
    "print(\"True Negative Rate at Highest TPR =\", TNR[best_TPR_index])\n",
    "print(\"False Positives at Highest TPR =\", False_P[best_TPR_index])\n",
    "\n",
    "\n",
    "# Best PPV Threshold:\n",
    "print(\"\\nHighest PPV =\", best_PPV)\n",
    "print(\"Threshold at Highest PPV = \", best_PPV_threshold)\n",
    "print(\"TPR at Highest PPV =\", best_TPR_for_best_PPV)\n",
    "print(\"Accuracy at Highest PPV =\", Acc[best_PPV_index])\n",
    "print(\"True Negative Rate at Highest PPV =\", TNR[best_PPV_index])\n"
   ]
  },
  {
   "cell_type": "markdown",
   "metadata": {},
   "source": [
    "The results make sense because at the highest TPR, we are still getting False Positives which is impacting PPV. Similarly, at the highest PPV, the model is correctly identifying True Positives. However, it is not catching all of them. This is the Precision-Recall tradeoff playing out here!"
   ]
  },
  {
   "cell_type": "code",
   "execution_count": 121,
   "metadata": {},
   "outputs": [
    {
     "name": "stdout",
     "output_type": "stream",
     "text": [
      "TPR threshold: 0.0601 => TPR: 1.0000; PPV: 0.2778\n",
      "PPV threshold: 0.6206 => PPV: 1.0000; TPR: 0.2000\n"
     ]
    }
   ],
   "source": [
    "print(\"TPR threshold: %.4f => TPR: %.4f; PPV: %.4f\" % (best_TPR_threshold, best_TPR, best_PPV_for_best_TPR))\n",
    "print(\"PPV threshold: %.4f => PPV: %.4f; TPR: %.4f\" % (best_PPV_threshold, best_PPV, best_TPR_for_best_PPV))"
   ]
  },
  {
   "cell_type": "markdown",
   "metadata": {},
   "source": [
    "#### (e) Exploring diffrerent thresholds\n",
    "\n",
    "#### (i) Using default 0.5 threshold. \n",
    "\n",
    "Generate confusion matrix and metrics for probabilistic classifier, using threshold 0.5."
   ]
  },
  {
   "cell_type": "code",
   "execution_count": 122,
   "metadata": {},
   "outputs": [
    {
     "name": "stdout",
     "output_type": "stream",
     "text": [
      "ON THE TEST SET:\n",
      "Chosen best threshold = 0.5000\n",
      "\n",
      "Confusion Matrix: \n",
      " Predicted    0   1\n",
      "True              \n",
      "0          150   5\n",
      "1           15  10\n",
      "\n",
      "0.889 ACC\n",
      "0.400 TPR\n",
      "0.968 TNR\n",
      "0.667 PPV\n",
      "0.909 NPV\n"
     ]
    }
   ],
   "source": [
    "best_thr = 0.5\n",
    "print(\"ON THE TEST SET:\")\n",
    "print(\"Chosen best threshold = %.4f\" % best_thr)\n",
    "print(\"\")\n",
    "print(\"Confusion Matrix: \\n\",calc_confusion_matrix_for_threshold(y_test, y_test_probabilities))\n",
    "print(\"\")\n",
    "print_perf_metrics_for_threshold(y_test, y_test_probabilities)"
   ]
  },
  {
   "cell_type": "markdown",
   "metadata": {},
   "source": [
    "#### (ii) Using threshold with highest TPR. \n",
    "\n",
    "Generate confusion matrix and metrics for probabilistic classifier, using threshold that maximizes TPR."
   ]
  },
  {
   "cell_type": "code",
   "execution_count": 123,
   "metadata": {},
   "outputs": [
    {
     "name": "stdout",
     "output_type": "stream",
     "text": [
      "ON THE TEST SET:\n",
      "Chosen best threshold = 0.0601\n",
      "\n",
      "Predicted   0   1\n",
      "True             \n",
      "0          90  65\n",
      "1           0  25\n",
      "\n",
      "0.639 ACC\n",
      "1.000 TPR\n",
      "0.581 TNR\n",
      "0.278 PPV\n",
      "1.000 NPV\n"
     ]
    }
   ],
   "source": [
    "best_thr = best_TPR_threshold\n",
    "print(\"ON THE TEST SET:\")\n",
    "print(\"Chosen best threshold = %.4f\" % best_thr)\n",
    "print(\"\")\n",
    "print(calc_confusion_matrix_for_threshold(y_test, y_test_probabilities,thresh=best_TPR_threshold))\n",
    "print(\"\")\n",
    "print_perf_metrics_for_threshold(y_test, y_test_probabilities,thresh=best_TPR_threshold)"
   ]
  },
  {
   "cell_type": "markdown",
   "metadata": {},
   "source": [
    "#### (iii) Using threshold with highest PPV. \n",
    "\n",
    "Generate confusion matrix and metrics for probabilistic classifier, using threshold that maximizes PPV."
   ]
  },
  {
   "cell_type": "code",
   "execution_count": 124,
   "metadata": {},
   "outputs": [
    {
     "name": "stdout",
     "output_type": "stream",
     "text": [
      "ON THE TEST SET:\n",
      "Chosen best threshold = 0.6206\n",
      "\n",
      "Predicted    0  1\n",
      "True             \n",
      "0          155  0\n",
      "1           20  5\n",
      "\n",
      "0.889 ACC\n",
      "0.200 TPR\n",
      "1.000 TNR\n",
      "1.000 PPV\n",
      "0.886 NPV\n"
     ]
    }
   ],
   "source": [
    "best_thr = best_PPV_threshold\n",
    "print(\"ON THE TEST SET:\")\n",
    "print(\"Chosen best threshold = %.4f\" % best_thr)\n",
    "print(\"\")\n",
    "print(calc_confusion_matrix_for_threshold(y_test, y_test_probabilities, best_PPV_threshold))\n",
    "print(\"\")\n",
    "print_perf_metrics_for_threshold(y_test, y_test_probabilities, best_PPV_threshold)"
   ]
  },
  {
   "cell_type": "markdown",
   "metadata": {},
   "source": [
    "#### (iv) Compare the confusion matrices from (a)–(c) to analyze the different thresholds.\n",
    "\n",
    "**Answer**: \n",
    "\n",
    "* At the default threshold (0.5):\n",
    "\n",
    "    * We get 15 false negatives and 10 true positives.\n",
    "    * This means 15 cancer cases are missed, which is unacceptable for our problem.\n",
    "    * Although the PPV is slightly higher than at the best TPR threshold, it's not worth the tradeoff—we're missing real positive cases.\n",
    "\n",
    "This is a clear example of the Precision-Recall tradeoff: we're gaining some precision but losing recall, which is dangerous in a medical setting.\n",
    "\n",
    "* At the best TPR threshold:\n",
    "\n",
    "    * We achieve a TPR of 1.0, meaning all true positives are correctly identified.\n",
    "    * However, we have 65 false positives, which lowers our PPV. Despite the lower PPV, this threshold is best for our purposes, because \n",
    "        * the cost of a false negative (missed cancer case) is far higher than a false positive (unnecessary follow-up)\n",
    "        * capturing every positive case is our top priority.\n",
    "\n",
    "* At the best PPV threshold:\n",
    "    * We only get 5 true positives and miss the remaining 20 positive cases, reflected in a TPR of just 0.2.\n",
    "    * While the accuracy and PPV are higher, this threshold is not useful for our goal.\n",
    "    * It performs well mathematically, but fails clinically—missing most cancer cases.\n",
    "\n",
    "In the light of above analysis, we can argue that when making a decision on Precision-Recall tradeoff, we can afford to be less precise, but not compromise on the recall. *also depends on the question you are answering and associated costs.\n"
   ]
  }
 ],
 "metadata": {
  "kernelspec": {
   "display_name": "ml135_env_sp21",
   "language": "python",
   "name": "python3"
  },
  "language_info": {
   "codemirror_mode": {
    "name": "ipython",
    "version": 3
   },
   "file_extension": ".py",
   "mimetype": "text/x-python",
   "name": "python",
   "nbconvert_exporter": "python",
   "pygments_lexer": "ipython3",
   "version": "3.12.9"
  }
 },
 "nbformat": 4,
 "nbformat_minor": 2
}
